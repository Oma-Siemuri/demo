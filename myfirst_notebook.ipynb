{
    "cells": [
        {
            "cell_type": "code",
            "execution_count": 1,
            "metadata": {},
            "outputs": [
                {
                    "data": {
                        "text/html": "<div>\n<style scoped>\n    .dataframe tbody tr th:only-of-type {\n        vertical-align: middle;\n    }\n\n    .dataframe tbody tr th {\n        vertical-align: top;\n    }\n\n    .dataframe thead th {\n        text-align: right;\n    }\n</style>\n<table border=\"1\" class=\"dataframe\">\n  <thead>\n    <tr style=\"text-align: right;\">\n      <th></th>\n      <th>product_code</th>\n      <th>customer_code</th>\n      <th>market_code</th>\n      <th>order_date</th>\n      <th>sales_qty</th>\n      <th>sales_amount</th>\n      <th>currency</th>\n      <th>markets_name</th>\n      <th>zone</th>\n      <th>customer_type</th>\n      <th>product_type</th>\n    </tr>\n  </thead>\n  <tbody>\n    <tr>\n      <th>0</th>\n      <td>Prod001</td>\n      <td>Cus001</td>\n      <td>Mark001</td>\n      <td>10/10/17</td>\n      <td>100</td>\n      <td>41241</td>\n      <td>INR</td>\n      <td>Chennai</td>\n      <td>South</td>\n      <td>Brick &amp; Mortar</td>\n      <td>Own Brand\\r</td>\n    </tr>\n    <tr>\n      <th>1</th>\n      <td>Prod001</td>\n      <td>Cus002</td>\n      <td>Mark002</td>\n      <td>5/8/18</td>\n      <td>3</td>\n      <td>-1</td>\n      <td>INR</td>\n      <td>Mumbai</td>\n      <td>Central</td>\n      <td>Brick &amp; Mortar</td>\n      <td>Own Brand\\r</td>\n    </tr>\n    <tr>\n      <th>2</th>\n      <td>Prod002</td>\n      <td>Cus003</td>\n      <td>Mark003</td>\n      <td>4/6/18</td>\n      <td>1</td>\n      <td>875</td>\n      <td>INR</td>\n      <td>Ahmedabad</td>\n      <td>North</td>\n      <td>Brick &amp; Mortar</td>\n      <td>Own Brand\\r</td>\n    </tr>\n    <tr>\n      <th>3</th>\n      <td>Prod002</td>\n      <td>Cus003</td>\n      <td>Mark003</td>\n      <td>4/11/18</td>\n      <td>1</td>\n      <td>583</td>\n      <td>INR</td>\n      <td>Ahmedabad</td>\n      <td>North</td>\n      <td>Brick &amp; Mortar</td>\n      <td>Own Brand\\r</td>\n    </tr>\n    <tr>\n      <th>4</th>\n      <td>Prod002</td>\n      <td>Cus004</td>\n      <td>Mark003</td>\n      <td>6/18/18</td>\n      <td>6</td>\n      <td>7176</td>\n      <td>INR</td>\n      <td>Ahmedabad</td>\n      <td>North</td>\n      <td>Brick &amp; Mortar</td>\n      <td>Own Brand\\r</td>\n    </tr>\n  </tbody>\n</table>\n</div>",
                        "text/plain": "  product_code customer_code market_code order_date  sales_qty  sales_amount  \\\n0      Prod001        Cus001     Mark001   10/10/17        100         41241   \n1      Prod001        Cus002     Mark002     5/8/18          3            -1   \n2      Prod002        Cus003     Mark003     4/6/18          1           875   \n3      Prod002        Cus003     Mark003    4/11/18          1           583   \n4      Prod002        Cus004     Mark003    6/18/18          6          7176   \n\n  currency markets_name     zone   customer_type product_type  \n0      INR      Chennai    South  Brick & Mortar  Own Brand\\r  \n1      INR       Mumbai  Central  Brick & Mortar  Own Brand\\r  \n2      INR    Ahmedabad    North  Brick & Mortar  Own Brand\\r  \n3      INR    Ahmedabad    North  Brick & Mortar  Own Brand\\r  \n4      INR    Ahmedabad    North  Brick & Mortar  Own Brand\\r  "
                    },
                    "execution_count": 1,
                    "metadata": {},
                    "output_type": "execute_result"
                }
            ],
            "source": "\nimport os, types\nimport pandas as pd\nfrom botocore.client import Config\nimport ibm_boto3\n\ndf_data_1 = pd.read_csv(body)\ndf_data_1.head()\n"
        },
        {
            "cell_type": "code",
            "execution_count": 13,
            "metadata": {},
            "outputs": [
                {
                    "data": {
                        "text/plain": "Own Brand\\r       61237\nDistribution\\r    33885\nName: product_type, dtype: int64"
                    },
                    "execution_count": 13,
                    "metadata": {},
                    "output_type": "execute_result"
                }
            ],
            "source": "x = df_data_1['product_type'].value_counts()\nx\n"
        },
        {
            "cell_type": "code",
            "execution_count": null,
            "metadata": {},
            "outputs": [],
            "source": ""
        }
    ],
    "metadata": {
        "kernelspec": {
            "display_name": "Python 3.9",
            "language": "python",
            "name": "python3"
        },
        "language_info": {
            "codemirror_mode": {
                "name": "ipython",
                "version": 3
            },
            "file_extension": ".py",
            "mimetype": "text/x-python",
            "name": "python",
            "nbconvert_exporter": "python",
            "pygments_lexer": "ipython3",
            "version": "3.9.12"
        }
    },
    "nbformat": 4,
    "nbformat_minor": 1
}